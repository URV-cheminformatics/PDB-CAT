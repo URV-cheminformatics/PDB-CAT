{
 "cells": [
  {
   "cell_type": "markdown",
   "metadata": {},
   "source": [
    "## **PDB-CAT**\n",
    "#### **You have the option to explore the code in the following two cells or jump directly into the main code. In the main code section, you should identify and determine the necessary variables.**"
   ]
  },
  {
   "cell_type": "code",
   "execution_count": 6,
   "metadata": {},
   "outputs": [],
   "source": [
    "# Import libraries\n",
    "from PDBCAT_module import *\n",
    "from pdbecif.mmcif_io import CifFileReader\n",
    "from pdbecif.mmcif_tools import MMCIF2Dict\n",
    "import pandas as pd\n",
    "import time\n",
    "import re\n",
    "import os\n",
    "import shutil\n",
    "from Bio.Align import PairwiseAligner \n",
    "from Bio.PDB import *  \n",
    "from datetime import datetime"
   ]
  },
  {
   "cell_type": "markdown",
   "metadata": {},
   "source": [
    "## Main Code"
   ]
  },
  {
   "cell_type": "code",
   "execution_count": 7,
   "metadata": {},
   "outputs": [
    {
     "name": "stdout",
     "output_type": "stream",
     "text": [
      "The file provided does not exist or is not a file.\n"
     ]
    },
    {
     "ename": "AttributeError",
     "evalue": "'NoneType' object has no attribute 'items'",
     "output_type": "error",
     "traceback": [
      "\u001b[0;31m---------------------------------------------------------------------------\u001b[0m",
      "\u001b[0;31mAttributeError\u001b[0m                            Traceback (most recent call last)",
      "Cell \u001b[0;32mIn[7], line 24\u001b[0m\n\u001b[1;32m     22\u001b[0m \u001b[38;5;28;01mif\u001b[39;00m mutation \u001b[38;5;241m==\u001b[39m \u001b[38;5;28;01mTrue\u001b[39;00m:\n\u001b[1;32m     23\u001b[0m     ref_cfr \u001b[38;5;241m=\u001b[39m CifFileReader()\n\u001b[0;32m---> 24\u001b[0m     ref_cif_obj \u001b[38;5;241m=\u001b[39m \u001b[43mref_cfr\u001b[49m\u001b[38;5;241;43m.\u001b[39;49m\u001b[43mread\u001b[49m\u001b[43m(\u001b[49m\u001b[43mpdb_reference_sequence\u001b[49m\u001b[43m,\u001b[49m\u001b[43m \u001b[49m\u001b[43moutput\u001b[49m\u001b[38;5;241;43m=\u001b[39;49m\u001b[38;5;124;43m'\u001b[39;49m\u001b[38;5;124;43mcif_wrapper\u001b[39;49m\u001b[38;5;124;43m'\u001b[39;49m\u001b[43m,\u001b[49m\u001b[43m \u001b[49m\u001b[43mignore\u001b[49m\u001b[38;5;241;43m=\u001b[39;49m\u001b[43m[\u001b[49m\u001b[38;5;124;43m'\u001b[39;49m\u001b[38;5;124;43m_atom_site\u001b[39;49m\u001b[38;5;124;43m'\u001b[39;49m\u001b[43m]\u001b[49m\u001b[43m)\u001b[49m\n\u001b[1;32m     25\u001b[0m     ref_cif_data \u001b[38;5;241m=\u001b[39m \u001b[38;5;28mlist\u001b[39m(ref_cif_obj\u001b[38;5;241m.\u001b[39mvalues())[\u001b[38;5;241m0\u001b[39m]\n\u001b[1;32m     26\u001b[0m     \u001b[38;5;28;01mif\u001b[39;00m \u001b[38;5;124m'\u001b[39m\u001b[38;5;124m_entity_poly\u001b[39m\u001b[38;5;124m'\u001b[39m \u001b[38;5;129;01min\u001b[39;00m ref_cif_data \u001b[38;5;129;01mand\u001b[39;00m \u001b[38;5;124m'\u001b[39m\u001b[38;5;124mpdbx_seq_one_letter_code_can\u001b[39m\u001b[38;5;124m'\u001b[39m \u001b[38;5;129;01min\u001b[39;00m ref_cif_data[\u001b[38;5;124m'\u001b[39m\u001b[38;5;124m_entity_poly\u001b[39m\u001b[38;5;124m'\u001b[39m]:\n",
      "File \u001b[0;32m~/PDB-CAT_repository/.venv/lib/python3.10/site-packages/pdbecif/mmcif_io.py:273\u001b[0m, in \u001b[0;36mCifFileReader.read\u001b[0;34m(self, file_path, output, ignore, preserve_order, only)\u001b[0m\n\u001b[1;32m    261\u001b[0m     \u001b[38;5;28;01mreturn\u001b[39;00m mmcif_dict\n\u001b[1;32m    262\u001b[0m \u001b[38;5;28;01melif\u001b[39;00m output \u001b[38;5;241m==\u001b[39m \u001b[38;5;124m\"\u001b[39m\u001b[38;5;124mcif_wrapper\u001b[39m\u001b[38;5;124m\"\u001b[39m:\n\u001b[1;32m    263\u001b[0m     \u001b[38;5;28;01mreturn\u001b[39;00m \u001b[38;5;28mdict\u001b[39m(\n\u001b[1;32m    264\u001b[0m         (\n\u001b[1;32m    265\u001b[0m             (\n\u001b[1;32m    266\u001b[0m                 block_id,\n\u001b[1;32m    267\u001b[0m                 CIFWrapper(\n\u001b[1;32m    268\u001b[0m                     block_data,\n\u001b[1;32m    269\u001b[0m                     data_id\u001b[38;5;241m=\u001b[39mblock_id,\n\u001b[1;32m    270\u001b[0m                     preserve_token_order\u001b[38;5;241m=\u001b[39mtoken_ordering,\n\u001b[1;32m    271\u001b[0m                 ),\n\u001b[1;32m    272\u001b[0m             )\n\u001b[0;32m--> 273\u001b[0m             \u001b[38;5;28;01mfor\u001b[39;00m block_id, block_data \u001b[38;5;129;01min\u001b[39;00m \u001b[38;5;28mlist\u001b[39m(\u001b[43mmmcif_dict\u001b[49m\u001b[38;5;241;43m.\u001b[39;49m\u001b[43mitems\u001b[49m())\n\u001b[1;32m    274\u001b[0m         )\n\u001b[1;32m    275\u001b[0m     )\n\u001b[1;32m    276\u001b[0m     \u001b[38;5;66;03m# return CIFWrapper(mmcif_dict, data_id=datablock_id)\u001b[39;00m\n\u001b[1;32m    277\u001b[0m \u001b[38;5;28;01melif\u001b[39;00m output \u001b[38;5;241m==\u001b[39m \u001b[38;5;124m\"\u001b[39m\u001b[38;5;124mcif_file\u001b[39m\u001b[38;5;124m\"\u001b[39m:\n",
      "\u001b[0;31mAttributeError\u001b[0m: 'NoneType' object has no attribute 'items'"
     ]
    }
   ],
   "source": [
    "\"\"\"\n",
    "=========\n",
    "INITIAL INFORMATION. CHANGE THE CONTENT OF THESE VARIABLES IF NECESSARY\n",
    "\"\"\"\n",
    "\n",
    "information_df = '' # Path and name of the csv output file\n",
    "mutation = True   # Analyze mutations. True or False\n",
    "output_path = '' # Path to output the classification folders\n",
    "pdb_reference_sequence = '' # Path to the pdb file that will be the reference sequence. \n",
    "entity_reference = 0 # '0' means that the first _entity_poly of the pdb_reference_sequence will be the reference sequence\n",
    "reference_seq = ''\n",
    "res_threshold = 0 # Chose a threshold to discriminate between peptides and the subunits of the protein\n",
    "\n",
    "\"\"\" \n",
    "MAIN CODE\n",
    "\"\"\"\n",
    "\n",
    "directory_path =os.getcwd()+\"/cif/\"  # Path to the folder with the cif files to process\n",
    "blacklist= read_blacklist(\"./blacklist.txt\") # Path to the blacklist file that contain the codes of the small molecules not considered ligands\n",
    "\n",
    "# READ THE REFERENCE SEQUENCE. It is a PDB file in CIF format.\n",
    "if mutation == True:\n",
    "    ref_cfr = CifFileReader()\n",
    "    ref_cif_obj = ref_cfr.read(pdb_reference_sequence, output='cif_wrapper', ignore=['_atom_site'])\n",
    "    ref_cif_data = list(ref_cif_obj.values())[0]\n",
    "    if '_entity_poly' in ref_cif_data and 'pdbx_seq_one_letter_code_can' in ref_cif_data['_entity_poly']:\n",
    "        reference_seq = ref_cif_data['_entity_poly']['pdbx_seq_one_letter_code_can'][entity_reference]  \n",
    "        reference_seq = reference_seq.replace(\"\\n\", \"\")\n",
    "    \n",
    "data = [] # It will contain the information for each PDB file\n",
    "for filename in os.listdir(directory_path):\n",
    "    if filename.endswith('.cif'):\n",
    "        file_path = os.path.join(directory_path, filename)\n",
    "        data_from_file = process_cif_file(file_path, mutation, blacklist, reference_seq, res_threshold)\n",
    "        data.append(data_from_file)\n",
    "        \n",
    "df = pd.DataFrame(data) # Create a Pandas df\n",
    "df.to_csv(information_df, index=False) # Save the df into a file\n",
    "        \n",
    "# Classification\n",
    "if mutation == False:\n",
    "    no_mutated_list = [filename[:-4].upper() for filename in os.listdir(directory_path) if filename.endswith('.cif')]\n",
    "\n",
    "if mutation ==True:    \n",
    "    # Classify whether there is a mutation\n",
    "    no_mutated_list, non_mut_path = mutation_classification(information_df, output_path)\n",
    "    output_path = non_mut_path \n",
    "\n",
    "# Classify depend on the bond\n",
    "bond_classification(information_df, no_mutated_list, output_path, mutation)"
   ]
  }
 ],
 "metadata": {
  "kernelspec": {
   "display_name": "Python 3",
   "language": "python",
   "name": "python3"
  },
  "language_info": {
   "codemirror_mode": {
    "name": "ipython",
    "version": 3
   },
   "file_extension": ".py",
   "mimetype": "text/x-python",
   "name": "python",
   "nbconvert_exporter": "python",
   "pygments_lexer": "ipython3",
   "version": "3.10.9"
  }
 },
 "nbformat": 4,
 "nbformat_minor": 2
}
