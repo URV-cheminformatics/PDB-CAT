{
 "cells": [
  {
   "cell_type": "markdown",
   "metadata": {},
   "source": [
    "## **PDB-CAT**"
   ]
  },
  {
   "cell_type": "markdown",
   "metadata": {},
   "source": [
    "#### **You have the option to explore the code in the following two cells or jump directly into the main code. In the main code section, you should identify and determine the necessary variables.**"
   ]
  },
  {
   "cell_type": "code",
   "execution_count": 5,
   "metadata": {},
   "outputs": [],
   "source": [
    "# Import libraries\n",
    "from PDBCAT_module import *\n",
    "from pdbecif.mmcif_io import CifFileReader\n",
    "from pdbecif.mmcif_tools import MMCIF2Dict\n",
    "import pandas as pd\n",
    "import time\n",
    "import re\n",
    "import os\n",
    "import shutil\n",
    "from Bio.Align import PairwiseAligner \n",
    "from Bio.PDB import * \n",
    "from datetime import datetime\n"
   ]
  },
  {
   "cell_type": "code",
   "execution_count": 6,
   "metadata": {},
   "outputs": [
    {
     "name": "stdout",
     "output_type": "stream",
     "text": [
      "['7TQ5', '7LKE', '5RF1', '7BAK', '5RE4', '6XHU', '5R7Y', '8GXH', '5REB', '5REK', '6YNQ', '5RGI', '7AEG', '7Z4S', '7A1U', '6W63', '7JR4', '7WQ9', '7P51', '6LU7', '7WQ8', '7NIJ', '5RF2', '7ANS', '5REL', '6XB0', '7AQE', '5R8T', '7AP6', '7BAJ', '6XA4', '6M2N', '5REJ', '8GVY', '5RG1', '7RNW', '5R80', '7VVT', '7BAL', '7L14']\n"
     ]
    }
   ],
   "source": [
    "\"\"\"\n",
    "=========\n",
    "INITIAL INFORMATION. CHANGE THE CONTENT OF THESE VARIABLES IF NECESSARY\n",
    "\"\"\"\n",
    "information_df ='df.csv' # Path and name of the csv output file\n",
    "mutation = True   # Analyze mutations. True or False\n",
    "output_path = os.getcwd() + '/output/'\n",
    "pdb_reference_sequence = '5r7y.cif' # Path to the pdb file that will be the reference sequence. \n",
    "entity_reference = 0 # '0' means that the first _entity_poly of the pdb_reference_sequence will be the reference sequence\n",
    "reference_seq=''\n",
    "res_threshold = 15 # Chose a threshold to discriminate between peptides and the subunits of the protein\n",
    "\n",
    "\"\"\" \n",
    "MAIN CODE\n",
    "\"\"\"\n",
    "directory_path =os.getcwd()+\"/cif/\"  # Path to the folder with the cif files to process\n",
    "blacklist= read_blacklist(\"./blacklist.txt\") # Path to the blacklist file that contain the codes of the small molecules not considered ligands\n",
    "\n",
    "# READ THE REFERENCE SEQUENCE. It is a PDB file in CIF format.\n",
    "if mutation == True:\n",
    "    ref_cfr = CifFileReader()\n",
    "    ref_cif_obj = ref_cfr.read(pdb_reference_sequence, output='cif_wrapper', ignore=['_atom_site'])\n",
    "    ref_cif_data = list(ref_cif_obj.values())[0]\n",
    "    if '_entity_poly' in ref_cif_data and 'pdbx_seq_one_letter_code_can' in ref_cif_data['_entity_poly']:\n",
    "        reference_seq = ref_cif_data['_entity_poly']['pdbx_seq_one_letter_code_can'][entity_reference]  \n",
    "        reference_seq = reference_seq.replace(\"\\n\", \"\")\n",
    "    \n",
    "data = [] # It will contain the information for each PDB file\n",
    "for filename in os.listdir(directory_path):\n",
    "    if filename.endswith('.cif'):\n",
    "        file_path = os.path.join(directory_path, filename)\n",
    "        data_from_file = process_cif_file(file_path, mutation, blacklist, reference_seq, res_threshold)\n",
    "        data.append(data_from_file)\n",
    "        \n",
    "df = pd.DataFrame(data) # Create a Pandas df\n",
    "df.to_csv(information_df, index=False) # Save the df into a file\n",
    "        \n",
    "# Classification\n",
    "if mutation == False:\n",
    "    no_mutated_list = [filename[:-4].upper() for filename in os.listdir(directory_path) if filename.endswith('.cif')]\n",
    "\n",
    "if mutation ==True:    \n",
    "    # Classify whether there is a mutation\n",
    "    no_mutated_list, non_mut_path = mutation_classification(information_df, output_path)\n",
    "    output_path = non_mut_path \n",
    "\n",
    "# Classify depend on the bond\n",
    "bond_classification(information_df, no_mutated_list, output_path, mutation)"
   ]
  },
  {
   "cell_type": "code",
   "execution_count": null,
   "metadata": {},
   "outputs": [],
   "source": []
  }
 ],
 "metadata": {
  "kernelspec": {
   "display_name": "Python 3",
   "language": "python",
   "name": "python3"
  },
  "language_info": {
   "codemirror_mode": {
    "name": "ipython",
    "version": 3
   },
   "file_extension": ".py",
   "mimetype": "text/x-python",
   "name": "python",
   "nbconvert_exporter": "python",
   "pygments_lexer": "ipython3",
   "version": "3.10.9"
  }
 },
 "nbformat": 4,
 "nbformat_minor": 2
}
