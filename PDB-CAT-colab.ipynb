{
  "cells": [
    {
      "cell_type": "markdown",
      "metadata": {
        "id": "H0sbRl4BXT0g"
      },
      "source": [
        "# **PDB-CAT**\n",
        "#### **You have the option to explore the code in the following cells or jump directly into the Settings. In the settings, everything is set by default.**\n",
        "\n",
        "If you are using the mutation filter, fill the variable `reference `\n",
        "with the name of the file, and change `mutation` to `True`.\n",
        "\n",
        "i.e.\n",
        "\n",
        "```\n",
        "reference = \"1ABC.cif\"\n",
        "mutation = True\n",
        "```\n",
        "\n"
      ]
    },
    {
      "cell_type": "markdown",
      "source": [
        "## Environment setup"
      ],
      "metadata": {
        "id": "Zhxgp7vxZtgr"
      }
    },
    {
      "cell_type": "code",
      "source": [
        "import os\n",
        "# Check if the PDB-CAT repository has been cloned and installed\n",
        "if not os.path.isfile(\"PDB-CAT_READY\"):\n",
        "    os.system(\"git clone https://github.com/URV-cheminformatics/PDB-CAT.git\")\n",
        "    os.chdir(\"PDB-CAT\")  # Change directory to the cloned repository\n",
        "    os.system(\"pip install -r requirements.txt\")  # Install PDB-CAT if it has a setup.py or pyproject.toml\n",
        "    os.chdir(\"..\")  # Change back to the original directory\n",
        "    os.system(\"touch PDB-CAT_READY\")  # Create the PDB-CAT_READY file to indicate successful cloning and installation\n",
        "print(\"PDB-CAT installed\")"
      ],
      "metadata": {
        "colab": {
          "base_uri": "https://localhost:8080/"
        },
        "id": "yN41l-1FXqum",
        "outputId": "a49473f0-b1a5-4aa6-d73b-9c447e420882"
      },
      "execution_count": 1,
      "outputs": [
        {
          "output_type": "stream",
          "name": "stdout",
          "text": [
            "PDB-CAT installed\n"
          ]
        }
      ]
    },
    {
      "cell_type": "code",
      "execution_count": 15,
      "metadata": {
        "colab": {
          "base_uri": "https://localhost:8080/"
        },
        "id": "1vCLRQDLXT0h",
        "outputId": "b93f9c15-8232-4282-94f7-8ab6062de2a9"
      },
      "outputs": [
        {
          "output_type": "stream",
          "name": "stdout",
          "text": [
            "Directories ensured\n"
          ]
        }
      ],
      "source": [
        "github = 'PDB-CAT/'\n",
        "\n",
        "def ensure_directories():\n",
        "    cif_dir = os.path.join(github + \"/cif\")\n",
        "    out_dir = os.path.join(github + \"/out\")\n",
        "\n",
        "    # Check if the 'cif' directory exists, if not, create it\n",
        "    if not os.path.exists(cif_dir):\n",
        "        os.mkdir(cif_dir)\n",
        "\n",
        "    # Check if the 'out' directory exists, if not, create it\n",
        "    if not os.path.exists(out_dir):\n",
        "        os.mkdir(out_dir)\n",
        "\n",
        "    print(\"Directories ensured\")\n",
        "\n",
        "ensure_directories()"
      ]
    },
    {
      "cell_type": "code",
      "execution_count": 13,
      "metadata": {
        "id": "E9_3Z9yuXT0i"
      },
      "outputs": [],
      "source": [
        "# Import libraries\n",
        "\n",
        "from pdbecif.mmcif_io import CifFileReader\n",
        "from pdbecif.mmcif_tools import MMCIF2Dict\n",
        "import pandas as pd\n",
        "import time\n",
        "import re\n",
        "import shutil\n",
        "from Bio.Align import PairwiseAligner\n",
        "from Bio.PDB import *\n",
        "from datetime import datetime\n",
        "from google.colab import files\n",
        "import sys\n",
        "sys.path.append('/content/PDB-CAT')\n",
        "from PDBCAT_module import *\n"
      ]
    },
    {
      "cell_type": "markdown",
      "source": [
        "## 👈 Add your files in cif folder"
      ],
      "metadata": {
        "id": "HRKQ1K2tYujU"
      }
    },
    {
      "cell_type": "markdown",
      "metadata": {
        "id": "S3uSSFvXXT0i"
      },
      "source": [
        "## Settings"
      ]
    },
    {
      "cell_type": "code",
      "source": [
        "\"\"\"\n",
        "=========\n",
        "INITIAL INFORMATION. CHANGE THE CONTENT OF THESE VARIABLES IF NECESSARY\n",
        "\"\"\"\n",
        "reference = ''\n",
        "\n",
        "directory_path = github + \"cif/\"                      # Path to the folder with the cif files to process\n",
        "out_file = github + \"df.csv\"                          # Path and name of the FIRST csv output file (protein-centered) (.csv)\n",
        "out_file_ligands = github + \"df_ligands.csv\"          # Path and name of the SECOND csv output file (ligand-centered) (.csv)\n",
        "mutation = False                                      # Analyze mutations. True or False\n",
        "output_path = github + \"out/\"                         # Path for the new categorizing folders\n",
        "pdb_reference_sequence = directory_path + reference   # Path to the pdb file that will be the reference sequence.\n",
        "entity_reference = 0                                  # '0' means that the first _entity_poly of the pdb_reference_sequence will be the reference sequence\n",
        "res_threshold = 15                                    # Chose a threshold to discriminate between peptides and the subunits of the protein\n",
        "\n"
      ],
      "metadata": {
        "id": "0SLb685IZT_u"
      },
      "execution_count": 19,
      "outputs": []
    },
    {
      "cell_type": "markdown",
      "source": [
        "## Main Code"
      ],
      "metadata": {
        "id": "aeoxirR6ZXd5"
      }
    },
    {
      "cell_type": "code",
      "execution_count": 18,
      "metadata": {
        "id": "9HLXAI1fXT0i"
      },
      "outputs": [],
      "source": [
        "\"\"\"\n",
        "MAIN CODE. YOU DO NOT NEED TO CHANGE THIS PART\n",
        "\"\"\"\n",
        "\n",
        "blacklist, blacklist_dict = read_blacklist(\"/content/PDB-CAT/blacklist.txt\") # Path to the blacklist file that contain the codes of the small molecules not considered ligands\n",
        "\n",
        "# READ THE REFERENCE SEQUENCE. It is a PDB file in CIF format.\n",
        "reference_seq=''\n",
        "if mutation == True:\n",
        "    ref_cfr = CifFileReader()\n",
        "    ref_cif_obj = ref_cfr.read(pdb_reference_sequence, output='cif_wrapper', ignore=['_atom_site'])\n",
        "    ref_cif_data = list(ref_cif_obj.values())[0]\n",
        "    if '_entity_poly' in ref_cif_data:\n",
        "        reference_seq = ref_cif_data['_entity_poly']['pdbx_seq_one_letter_code_can'][entity_reference]\n",
        "        reference_seq = reference_seq.replace(\"\\n\",\"\")\n",
        "\n",
        "# First csv output. Protein-centered\n",
        "# Second csv output. Ligand-centered\n",
        "\n",
        "data = []\n",
        "data_ligands = []\n",
        "fields_to_include = [\"PDB_ID\", \"Ligand\", \"Ligand_names\",\"Ligand_types\", \"Ligand_functions\", \"Covalent_Bond\", \"Bond\"]\n",
        "fields_to_append = [\"PDB_ID\"]\n",
        "\n",
        "for filename in os.listdir(directory_path):\n",
        "    if filename.endswith('.cif'):\n",
        "        file_path = os.path.join(directory_path, filename)\n",
        "        data_from_file = process_cif_file(file_path, mutation, blacklist, reference_seq, res_threshold)\n",
        "        data.append(data_from_file)\n",
        "\n",
        "        # Split ligand names and create a new row for each ligand\n",
        "        ligands = data_from_file[\"Ligand\"].split('\\n')\n",
        "        ligand_names_list = data_from_file[\"Ligand_names\"].split('\\n')\n",
        "        ligand_types_list = data_from_file[\"Ligand_types\"].split('\\n')\n",
        "        covalent_bond_list = data_from_file[\"Covalent_Bond\"].split('\\n')\n",
        "        ligand_covalents_bond = data_from_file[\"Bond\"].split('\\n')\n",
        "        descarted_ligands = data_from_file[\"Discarted_Ligands\"].split('\\n')\n",
        "        branched_molecules = data_from_file[\"Branched\"].split('\\n')\n",
        "        branched_name = data_from_file[\"Branched_name\"].split('\\n')\n",
        "        branched_type = data_from_file[\"Branched_type\"].split('\\n')\n",
        "        branched_covalent = data_from_file[\"Branched_Covalent\"].split('\\n')\n",
        "        branched_bond = data_from_file[\"Branched_Bond\"].split('\\n')\n",
        "\n",
        "\n",
        "        # Find the maximum length among the three lists\n",
        "        max_length = max(len(ligands), len(ligand_names_list), len(ligand_types_list), len(covalent_bond_list), len(ligand_covalents_bond), len(descarted_ligands), len(branched_molecules))\n",
        "\n",
        "        for i in range(max_length):\n",
        "            ligand_row = {field: data_from_file[field] for field in fields_to_include}\n",
        "\n",
        "            # Get the element from each list\n",
        "            ligand_row[\"Ligand\"]= ligands[i].strip() if i < len(ligands) else \"\"\n",
        "            ligand_row[\"Ligand_names\"] = ligand_names_list[i].strip() if i < len(ligand_names_list) else \"\"\n",
        "            ligand_row[\"Ligand_types\"] = ligand_types_list[i].strip() if i < len(ligand_types_list) else \"\"\n",
        "            ligand_row[\"Covalent_Bond\"] = covalent_bond_list[i].strip() if i < len(covalent_bond_list) else \"\"\n",
        "            ligand_row[\"Bond\"] = ligand_covalents_bond[i].strip() if i < len(ligand_covalents_bond) else \"\"\n",
        "            data_ligands.append(ligand_row)\n",
        "\n",
        "\n",
        "            # Add column to the ligands DataFrame and fill it with corresponding information\n",
        "            if i < len(descarted_ligands) and descarted_ligands[i].strip():  # Ensure there is information before adding\n",
        "                ligand_row_discarded = {field: data_from_file[field] for field in fields_to_include}\n",
        "                ligand_row_discarded[\"Ligand\"] = descarted_ligands[i].strip()\n",
        "                ligand_row_discarded[\"Ligand_names\"] = blacklist_dict[descarted_ligands[i].strip()]\n",
        "                ligand_row_discarded[\"Ligand_types\"] = \"Discarded\"\n",
        "                ligand_row_discarded[\"Covalent_Bond\"] = \"\"\n",
        "                ligand_row_discarded[\"Bond\"] = \"\"\n",
        "                data_ligands.append(ligand_row_discarded)\n",
        "\n",
        "            # Add a column to the ligands DataFrame and fill it with the corresponding information\n",
        "            if i < len(branched_molecules) and branched_molecules[i].strip():\n",
        "                ligand_row_branched = {field: data_from_file[field] for field in fields_to_include}\n",
        "                ligand_row_branched[\"Ligand\"] = branched_molecules[i].strip() if i < len(branched_molecules) else \"\"\n",
        "                ligand_row_branched[\"Ligand_names\"] = branched_name[i].strip() if i < len(branched_name) else \"\"\n",
        "                ligand_row_branched[\"Ligand_types\"] = \"Branched\"\n",
        "                ligand_row_branched[\"Covalent_Bond\"] = branched_covalent[i].strip() if i < len(branched_covalent) else \"\"\n",
        "                ligand_row_branched[\"Bond\"] = branched_bond[i].strip() if i < len(branched_bond) else \"\"\n",
        "                data_ligands.append(ligand_row_branched)\n",
        "\n",
        "# First csv output. Protein-centered\n",
        "df = pd.DataFrame(data)  # Create a Pandas df\n",
        "df.to_csv(out_file, index=False)  # Save the df into a file\n",
        "\n",
        "# Second csv output. Ligand-centered\n",
        "df_ligand = pd.DataFrame(data_ligands) # Create a Pandas df\n",
        "\n",
        "# Remove rows where 'Ligand' is empty or contains only white spaces\n",
        "df_ligand['Ligand'] = df_ligand['Ligand'].str.strip()\n",
        "df_ligand = df_ligand[df_ligand['Ligand'] != '']\n",
        "\n",
        "# Define the new names for the columns\n",
        "new_header = ['ID', 'Molecule', 'Name', 'Type', 'Function', 'Covalent', 'Bond']\n",
        "df_ligand.columns = new_header\n",
        "\n",
        "# Second csv output. Ligand-centered\n",
        "df_ligand.to_csv(out_file_ligands, index=False) # Save the df into a file\n",
        "\n",
        "# Classify whether there is a mutation\n",
        "if mutation == False:\n",
        "    no_mutated_list = os.listdir(directory_path)\n",
        "    no_mutated_list = [filename[:-4] for filename in no_mutated_list]\n",
        "\n",
        "if mutation ==True:\n",
        "    no_mutated_list, non_mut_path = mutation_classification(directory_path, out_file, output_path)\n",
        "    output_path = non_mut_path\n",
        "\n",
        "# Classify depend on the bond\n",
        "bond_classification(directory_path, out_file, no_mutated_list, output_path, mutation)"
      ]
    },
    {
      "cell_type": "markdown",
      "source": [
        "## Download results"
      ],
      "metadata": {
        "id": "EJMetovYc17-"
      }
    },
    {
      "cell_type": "code",
      "source": [
        "# @title Package and Download results { display-mode: \"form\" }\n",
        "results_zip = f\"PDB-CAT-result.zip\"\n",
        "os.system(f\"zip -r {results_zip} {output_path} {github}/out\")\n",
        "files.download(results_zip)"
      ],
      "metadata": {
        "colab": {
          "base_uri": "https://localhost:8080/",
          "height": 17
        },
        "id": "SexeM8Qtc-GK",
        "outputId": "c996207c-5c80-4bbc-f261-604e14791bcd"
      },
      "execution_count": 20,
      "outputs": [
        {
          "output_type": "display_data",
          "data": {
            "text/plain": [
              "<IPython.core.display.Javascript object>"
            ],
            "application/javascript": [
              "\n",
              "    async function download(id, filename, size) {\n",
              "      if (!google.colab.kernel.accessAllowed) {\n",
              "        return;\n",
              "      }\n",
              "      const div = document.createElement('div');\n",
              "      const label = document.createElement('label');\n",
              "      label.textContent = `Downloading \"${filename}\": `;\n",
              "      div.appendChild(label);\n",
              "      const progress = document.createElement('progress');\n",
              "      progress.max = size;\n",
              "      div.appendChild(progress);\n",
              "      document.body.appendChild(div);\n",
              "\n",
              "      const buffers = [];\n",
              "      let downloaded = 0;\n",
              "\n",
              "      const channel = await google.colab.kernel.comms.open(id);\n",
              "      // Send a message to notify the kernel that we're ready.\n",
              "      channel.send({})\n",
              "\n",
              "      for await (const message of channel.messages) {\n",
              "        // Send a message to notify the kernel that we're ready.\n",
              "        channel.send({})\n",
              "        if (message.buffers) {\n",
              "          for (const buffer of message.buffers) {\n",
              "            buffers.push(buffer);\n",
              "            downloaded += buffer.byteLength;\n",
              "            progress.value = downloaded;\n",
              "          }\n",
              "        }\n",
              "      }\n",
              "      const blob = new Blob(buffers, {type: 'application/binary'});\n",
              "      const a = document.createElement('a');\n",
              "      a.href = window.URL.createObjectURL(blob);\n",
              "      a.download = filename;\n",
              "      div.appendChild(a);\n",
              "      a.click();\n",
              "      div.remove();\n",
              "    }\n",
              "  "
            ]
          },
          "metadata": {}
        },
        {
          "output_type": "display_data",
          "data": {
            "text/plain": [
              "<IPython.core.display.Javascript object>"
            ],
            "application/javascript": [
              "download(\"download_dc403471-4c14-4380-86bf-e6c275cdb80f\", \"PDB-CAT-result.zip\", 1856080)"
            ]
          },
          "metadata": {}
        }
      ]
    }
  ],
  "metadata": {
    "kernelspec": {
      "display_name": "Python 3",
      "language": "python",
      "name": "python3"
    },
    "language_info": {
      "codemirror_mode": {
        "name": "ipython",
        "version": 3
      },
      "file_extension": ".py",
      "mimetype": "text/x-python",
      "name": "python",
      "nbconvert_exporter": "python",
      "pygments_lexer": "ipython3",
      "version": "3.10.9"
    },
    "colab": {
      "provenance": [],
      "collapsed_sections": [
        "aeoxirR6ZXd5"
      ]
    }
  },
  "nbformat": 4,
  "nbformat_minor": 0
}