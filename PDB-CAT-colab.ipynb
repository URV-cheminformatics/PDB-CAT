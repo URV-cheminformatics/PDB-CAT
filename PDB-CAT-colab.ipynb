{
 "cells": [
  {
   "cell_type": "markdown",
   "metadata": {},
   "source": [
    "\n",
    "# **PDB-CAT: Protein Data Bank Categorization Tool**\n",
    "    \n",
    "    This notebook is designed to process and categorize structural data from the Protein Data Bank (PDB). \n",
    "    It allows users to analyze proteins and their interactions with ligands, apply filters based on sequence length, and classify structures based on mutations and binding properties.\n",
    "    \n",
    "    ## How to Use This Notebook\n",
    "    - **Step 1:** Run all the cells sequentially or use the *Run All* option.\n",
    "    - **Step 2:** Modify the necessary parameters (e.g., folder paths, filtering thresholds).\n",
    "    - **Step 3:** The script will process the structures and generate categorized output files.\n",
    "    \n",
    "    "
   ]
  },
  {
   "cell_type": "markdown",
   "metadata": {},
   "source": [
    " ## Step 1: Import Required Libraries\n",
    "The following libraries are required to parse and process PDB structures, manage data, and perform sequence alignments."
   ]
  },
  {
   "cell_type": "code",
   "execution_count": 1,
   "metadata": {},
   "outputs": [],
   "source": [
    "# Import libraries\n",
    "from PDBCAT_module import *\n",
    "from pdbecif.mmcif_io import CifFileReader\n",
    "from pdbecif.mmcif_tools import MMCIF2Dict\n",
    "import pandas as pd\n",
    "import time\n",
    "import re\n",
    "import os\n",
    "import shutil\n",
    "from Bio.Align import PairwiseAligner \n",
    "from Bio.PDB import *  \n",
    "from Bio import SeqIO\n",
    "from datetime import datetime\n",
    "import time\n",
    "import psutil"
   ]
  },
  {
   "cell_type": "markdown",
   "metadata": {},
   "source": [
    "## Step 2: Verify Required Folders\n",
    "The script checks if the required directories exist. If they do not, it creates them automatically.\n",
    "    "
   ]
  },
  {
   "cell_type": "code",
   "execution_count": 2,
   "metadata": {},
   "outputs": [],
   "source": [
    "# Check if you have the correct folders\n",
    "cif_dir = os.path.join(os.getcwd(), \"cif-prueba\")\n",
    "\n",
    "if not os.path.exists(cif_dir):\n",
    "    os.mkdir(cif_dir)"
   ]
  },
  {
   "cell_type": "markdown",
   "metadata": {},
   "source": [
    "## Step 3: Define Parameters\n",
    "Adjust these parameters as needed before running the main script.\n",
    "- **folder_name**: Name of the directory containing `.cif` files.\n",
    "- **res_threshold**: Minimum number of residues to distinguish proteins from peptides.\n",
    "- **mutation**: Set to `True` if mutation analysis is needed.\n",
    "- **pdb**: PDB ID for mutation analysis (used only if `mutation = True`)."
   ]
  },
  {
   "cell_type": "code",
   "execution_count": null,
   "metadata": {},
   "outputs": [],
   "source": [
    "\"\"\"\n",
    "=========\n",
    "INITIAL INFORMATION. CHANGE THE CONTENT OF THESE VARIABLES IF NECESSARY\n",
    "=========\n",
    "\"\"\"\n",
    "\n",
    "# Name of the folder with the cif files to process\n",
    "folder_name = \"cif-prueba\" \n",
    "# Chose a threshold for the number of amino acids, to discriminate between peptides and the subunits of the protein                                               \n",
    "res_threshold = 20  \n",
    "# Analyze mutations. True or False        \n",
    "mutation = False      \n",
    "# PDB code of the protein to analyze. If mutation is False, this variable is not used.                           \n",
    "pdb = \" \"  \n"
   ]
  },
  {
   "cell_type": "markdown",
   "metadata": {},
   "source": [
    "## Step 4: Process the cif Data\n",
    "The main script processes the PDB files and classifies structures based on the defined criteria.\n",
    "No modifications are required in this section."
   ]
  },
  {
   "cell_type": "code",
   "execution_count": null,
   "metadata": {},
   "outputs": [],
   "source": [
    "\"\"\"\n",
    "===================================================================================================================================================\n",
    "\"\"\"\n",
    "\n",
    "# Path to the folder with the cif files to process\n",
    "directory_path = os.getcwd() + \"/\" + folder_name \n",
    "# Path and name of the FIRST csv output file (protein-centered) (.csv)              \n",
    "out_file = f\"df-{folder_name}.csv\"     \n",
    "# Path and name of the SECOND csv output file (ligand-centered) (.csv)                     \n",
    "out_file_ligands = f\"df-ligand-{folder_name}.csv\"   \n",
    "# Path for the new categorizing folders                                      \n",
    "output_path = f\"{folder_name}-out/\"\n",
    "\n",
    "\n",
    "\"\"\"\n",
    "===================================================================================================================================================\n",
    "\"\"\"\n",
    "\n",
    "\"\"\" \n",
    "MAIN CODE. YOU DO NOT NEED TO CHANGE THIS PART\n",
    "\"\"\"\n",
    "start_time = time.time()\n",
    "blacklist, blacklist_dict = read_blacklist(\"./blacklist.txt\") # Path to the blacklist file that contain the codes of the small molecules not considered ligands\n",
    "\n",
    "# READ THE REFERENCE SEQUENCES from the FASTA file.\n",
    "if mutation:\n",
    "    fasta_file = f\"{directory_path}/{pdb}.fasta\"\n",
    "    sequences_dict = extract_sequences(fasta_file)\n",
    "else:\n",
    "    sequences_dict = None\n",
    "\n",
    "## OUTPUT \n",
    "write_output(directory_path, out_file, out_file_ligands, blacklist_dict, mutation, blacklist, sequences_dict, res_threshold)\n",
    "\n",
    "# Classify whether there is a mutation\n",
    "if mutation == False:\n",
    "    no_mutated_list = os.listdir(directory_path)\n",
    "    no_mutated_list = [filename[:-4] for filename in no_mutated_list]\n",
    "\n",
    "if mutation == True:    \n",
    "    no_mutated_list, non_mut_path = mutation_classification(directory_path, out_file, output_path)\n",
    "    output_path = non_mut_path \n",
    "\n",
    "# Classify depend on the bond\n",
    "bond_classification(directory_path, out_file, no_mutated_list, output_path, mutation)"
   ]
  }
 ],
 "metadata": {
  "kernelspec": {
   "display_name": ".venv",
   "language": "python",
   "name": "python3"
  },
  "language_info": {
   "codemirror_mode": {
    "name": "ipython",
    "version": 3
   },
   "file_extension": ".py",
   "mimetype": "text/x-python",
   "name": "python",
   "nbconvert_exporter": "python",
   "pygments_lexer": "ipython3",
   "version": "3.10.9"
  }
 },
 "nbformat": 4,
 "nbformat_minor": 2
}
