{
  "cells": [
    {
      "cell_type": "markdown",
      "metadata": {
        "id": "qqW-TEHka_Xw"
      },
      "source": [
        "\n",
        "# **PDB-CAT: Protein Data Bank Categorization Tool**\n",
        "    \n",
        "This notebook is designed to process and categorize structural data from the Protein Data Bank (PDB).\n",
        "It allows users to analyze proteins and their interactions with ligands, apply filters based on sequence length, and classify structures based on mutations and binding properties.\n",
        "    \n",
        "## How to Use This Notebook\n",
        "- **Step 1:** Run all the cells sequentially or use the *Run All* option.\n",
        "- **Step 2:** Modify the necessary parameters (e.g., folder paths, filtering thresholds).\n",
        "- **Step 3:** The script will process the structures and generate categorized output files.\n",
        "    \n",
        "    "
      ]
    },
    {
      "cell_type": "code",
      "execution_count": 1,
      "metadata": {
        "colab": {
          "base_uri": "https://localhost:8080/"
        },
        "id": "caLXSvm6a_Xy",
        "outputId": "e2430842-4525-4842-92e0-e29d51da30ed"
      },
      "outputs": [
        {
          "name": "stdout",
          "output_type": "stream",
          "text": [
            "PDB-CAT installed\n",
            "Directories ensured\n"
          ]
        }
      ],
      "source": [
        "import os\n",
        "# Check if the PDB-CAT repository has been cloned and installed\n",
        "if not os.path.isfile(\"PDB-CAT_READY\"):\n",
        "    os.system(\"git clone https://github.com/URV-cheminformatics/PDB-CAT.git\")\n",
        "    os.chdir(\"PDB-CAT\")  # Change directory to the cloned repository\n",
        "    !pip install -r requirements.txt # Install PDB-CAT if it has a setup.py or pyproject.toml\n",
        "    os.chdir(\"..\")  # Change back to the original directory\n",
        "    os.system(\"touch PDB-CAT_READY\")  # Create the PDB-CAT_READY file to indicate successful cloning and installation\n",
        "print(\"PDB-CAT installed\")\n",
        "\n",
        "github = 'PDB-CAT/'\n",
        "\n",
        "def ensure_directories():\n",
        "    cif_dir = os.path.join(github + \"/cif-test\")\n",
        "    out_dir = os.path.join(github + \"/out\")\n",
        "\n",
        "    # Check if the 'cif' directory exists, if not, create it\n",
        "    if not os.path.exists(cif_dir):\n",
        "        os.mkdir(cif_dir)\n",
        "\n",
        "    # Check if the 'out' directory exists, if not, create it\n",
        "    if not os.path.exists(out_dir):\n",
        "        os.mkdir(out_dir)\n",
        "\n",
        "    print(\"Directories ensured\")\n",
        "\n",
        "ensure_directories()\n"
      ]
    },
    {
      "cell_type": "markdown",
      "metadata": {
        "id": "6VxN_y_da_Xz"
      },
      "source": [
        " ## Step 1: Import Required Libraries\n",
        "The following libraries are required to parse and process PDB structures, manage data, and perform sequence alignments."
      ]
    },
    {
      "cell_type": "code",
      "execution_count": null,
      "metadata": {
        "colab": {
          "base_uri": "https://localhost:8080/",
          "height": 269
        },
        "id": "AONYU06Ka_Xz",
        "outputId": "ad6b986a-8e0c-42ed-d65f-05f9d3feeecc"
      },
      "outputs": [],
      "source": [
        "# Import libraries\n",
        "import pandas as pd\n",
        "import time\n",
        "import re\n",
        "import shutil\n",
        "from datetime import datetime\n",
        "import time\n",
        "import psutil\n",
        "from pdbecif.mmcif_io import CifFileReader\n",
        "from pdbecif.mmcif_tools import MMCIF2Dict\n",
        "from Bio.Align import PairwiseAligner\n",
        "from Bio.PDB import *\n",
        "from Bio import SeqIO\n",
        "from google.colab import files\n",
        "import sys\n",
        "sys.path.append('/content/PDB-CAT')\n",
        "from PDBCAT_module import *"
      ]
    },
    {
      "cell_type": "markdown",
      "metadata": {
        "id": "TqXm2wUFa_X0"
      },
      "source": [
        "## Step 2: Verify Required Folders\n",
        "The script checks if the required directories exist. If they do not, it creates them automatically.\n",
        "    "
      ]
    },
    {
      "cell_type": "code",
      "execution_count": null,
      "metadata": {
        "id": "LOvhYp3Oa_X0"
      },
      "outputs": [],
      "source": [
        "# Check if you have the correct folders\n",
        "cif_dir = os.path.join(os.getcwd(), \"cif-test\")\n",
        "\n",
        "if not os.path.exists(cif_dir):\n",
        "    os.mkdir(cif_dir)"
      ]
    },
    {
      "cell_type": "markdown",
      "metadata": {
        "id": "xSLBEHV-a_X0"
      },
      "source": [
        "## Step 3: Define Parameters\n",
        "Adjust these parameters as needed before running the main script.\n",
        "- **folder_name**: Name of the directory containing `.cif` files.\n",
        "- **res_threshold**: Minimum number of residues to distinguish proteins from peptides.\n",
        "- **mutation**: Set to `True` if mutation analysis is needed.\n",
        "- **pdb**: PDB ID for mutation analysis (used only if `mutation = True`)."
      ]
    },
    {
      "cell_type": "code",
      "execution_count": null,
      "metadata": {
        "id": "2WHDFwl3a_X0"
      },
      "outputs": [],
      "source": [
        "\"\"\"\n",
        "=========\n",
        "INITIAL INFORMATION. CHANGE THE CONTENT OF THESE VARIABLES IF NECESSARY\n",
        "=========\n",
        "\"\"\"\n",
        "\n",
        "# Name of the folder with the cif files to process\n",
        "folder_name = \"cif-test\"\n",
        "# Chose a threshold for the number of amino acids, to discriminate between peptides and the subunits of the protein\n",
        "res_threshold = 20\n",
        "# Analyze mutations. True or False\n",
        "mutation = False\n",
        "# PDB code of the protein to analyze. If mutation is False, this variable is not used.\n",
        "pdb = \" \"\n"
      ]
    },
    {
      "cell_type": "markdown",
      "metadata": {
        "id": "NXLOpENxa_X1"
      },
      "source": [
        "## Step 4: Process the cif Data\n",
        "The main script processes the PDB files and classifies structures based on the defined criteria.\n",
        "No modifications are required in this section."
      ]
    },
    {
      "cell_type": "code",
      "execution_count": null,
      "metadata": {
        "id": "1--qSR6Aa_X1"
      },
      "outputs": [],
      "source": [
        "\"\"\"\n",
        "===================================================================================================================================================\n",
        "\"\"\"\n",
        "\n",
        "# Path to the folder with the cif files to process\n",
        "directory_path = os.getcwd() + \"/\" + folder_name\n",
        "# Path and name of the FIRST csv output file (protein-centered) (.csv)\n",
        "out_file = f\"df-{folder_name}.csv\"\n",
        "# Path and name of the SECOND csv output file (ligand-centered) (.csv)\n",
        "out_file_ligands = f\"df-ligand-{folder_name}.csv\"\n",
        "# Path for the new categorizing folders\n",
        "output_path = f\"{folder_name}-out/\"\n",
        "\n",
        "\n",
        "\"\"\"\n",
        "===================================================================================================================================================\n",
        "\"\"\"\n",
        "\n",
        "\"\"\"\n",
        "MAIN CODE. YOU DO NOT NEED TO CHANGE THIS PART\n",
        "\"\"\"\n",
        "start_time = time.time()\n",
        "blacklist, blacklist_dict = read_blacklist(\"./blacklist.txt\") # Path to the blacklist file that contain the codes of the small molecules not considered ligands\n",
        "\n",
        "# READ THE REFERENCE SEQUENCES from the FASTA file.\n",
        "if mutation:\n",
        "    fasta_file = f\"{directory_path}/{pdb}.fasta\"\n",
        "    sequences_dict = extract_sequences(fasta_file)\n",
        "else:\n",
        "    sequences_dict = None\n",
        "\n",
        "## OUTPUT\n",
        "write_output(directory_path, out_file, out_file_ligands, blacklist_dict, mutation, blacklist, sequences_dict, res_threshold)\n",
        "\n",
        "# Classify whether there is a mutation\n",
        "if mutation == False:\n",
        "    no_mutated_list = os.listdir(directory_path)\n",
        "    no_mutated_list = [filename[:-4] for filename in no_mutated_list]\n",
        "\n",
        "if mutation == True:\n",
        "    no_mutated_list, non_mut_path = mutation_classification(directory_path, out_file, output_path)\n",
        "    output_path = non_mut_path\n",
        "\n",
        "# Classify depend on the bond\n",
        "bond_classification(directory_path, out_file, no_mutated_list, output_path, mutation)"
      ]
    }
  ],
  "metadata": {
    "colab": {
      "provenance": []
    },
    "kernelspec": {
      "display_name": "base",
      "language": "python",
      "name": "python3"
    },
    "language_info": {
      "codemirror_mode": {
        "name": "ipython",
        "version": 3
      },
      "file_extension": ".py",
      "mimetype": "text/x-python",
      "name": "python",
      "nbconvert_exporter": "python",
      "pygments_lexer": "ipython3",
      "version": "3.10.16"
    }
  },
  "nbformat": 4,
  "nbformat_minor": 0
}
