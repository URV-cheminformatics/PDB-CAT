{
  "cells": [
    {
      "cell_type": "markdown",
      "metadata": {
        "id": "qqW-TEHka_Xw"
      },
      "source": [
        "\n",
        "# **PDB-CAT: Protein Data Bank Categorization Tool**\n",
        "    \n",
        "This notebook is designed to process and categorize structural data from the Protein Data Bank (PDB).\n",
        "It allows users to analyze proteins and their interactions with ligands, apply filters based on sequence length, and classify structures based on mutations and binding properties.\n",
        "    \n",
        "## How to Use This Notebook\n",
        "- **Step 1:** Run all the cells sequentially or use the *Run All* option.\n",
        "- **Step 2:** Modify the necessary parameters (e.g., folder paths, filtering thresholds).\n",
        "- **Step 3:** The script will process the structures and generate categorized output files.\n",
        "    \n",
        "    "
      ]
    },
    {
      "cell_type": "code",
      "execution_count": 1,
      "metadata": {
        "colab": {
          "base_uri": "https://localhost:8080/"
        },
        "id": "caLXSvm6a_Xy",
        "outputId": "e2430842-4525-4842-92e0-e29d51da30ed"
      },
      "outputs": [
        {
          "name": "stdout",
          "output_type": "stream",
          "text": [
            "PDB-CAT installed\n",
            "Directories ensured\n"
          ]
        }
      ],
      "source": [
        "import os\n",
        "# Check if the PDB-CAT repository has been cloned and installed\n",
        "if not os.path.isfile(\"PDB-CAT_READY\"):\n",
        "    os.system(\"git clone https://github.com/URV-cheminformatics/PDB-CAT.git\")\n",
        "    os.chdir(\"PDB-CAT\")  # Change directory to the cloned repository\n",
        "    !pip install -r requirements.txt # Install PDB-CAT if it has a setup.py or pyproject.toml\n",
        "    os.chdir(\"..\")  # Change back to the original directory\n",
        "    os.system(\"touch PDB-CAT_READY\")  # Create the PDB-CAT_READY file to indicate successful cloning and installation\n",
        "print(\"PDB-CAT installed\")\n",
        "\n",
        "github = 'PDB-CAT/'\n",
        "\n",
        "def ensure_directories():\n",
        "    cif_dir = os.path.join(github + \"/cif-test\")\n",
        "    out_dir = os.path.join(github + \"/out\")\n",
        "\n",
        "    # Check if the 'cif' directory exists, if not, create it\n",
        "    if not os.path.exists(cif_dir):\n",
        "        os.mkdir(cif_dir)\n",
        "\n",
        "    # Check if the 'out' directory exists, if not, create it\n",
        "    if not os.path.exists(out_dir):\n",
        "        os.mkdir(out_dir)\n",
        "\n",
        "    print(\"Directories ensured\")\n",
        "\n",
        "ensure_directories()\n"
      ]
    },
    {
      "cell_type": "markdown",
      "metadata": {
        "id": "6VxN_y_da_Xz"
      },
      "source": [
        " ## Step 1: Import Required Libraries\n",
        "The following libraries are required to parse and process PDB structures, manage data, and perform sequence alignments."
      ]
    },
    {
      "cell_type": "code",
      "execution_count": 2,
      "metadata": {
        "colab": {
          "base_uri": "https://localhost:8080/",
          "height": 269
        },
        "id": "AONYU06Ka_Xz",
        "outputId": "ad6b986a-8e0c-42ed-d65f-05f9d3feeecc"
      },
      "outputs": [
        {
          "ename": "ValueError",
          "evalue": "numpy.dtype size changed, may indicate binary incompatibility. Expected 96 from C header, got 88 from PyObject",
          "output_type": "error",
          "traceback": [
            "\u001b[0;31m---------------------------------------------------------------------------\u001b[0m",
            "\u001b[0;31mValueError\u001b[0m                                Traceback (most recent call last)",
            "\u001b[0;32m<ipython-input-2-84ee49505b70>\u001b[0m in \u001b[0;36m<cell line: 0>\u001b[0;34m()\u001b[0m\n\u001b[1;32m      1\u001b[0m \u001b[0;31m# Import libraries\u001b[0m\u001b[0;34m\u001b[0m\u001b[0;34m\u001b[0m\u001b[0m\n\u001b[0;32m----> 2\u001b[0;31m \u001b[0;32mimport\u001b[0m \u001b[0mpandas\u001b[0m \u001b[0;32mas\u001b[0m \u001b[0mpd\u001b[0m\u001b[0;34m\u001b[0m\u001b[0;34m\u001b[0m\u001b[0m\n\u001b[0m\u001b[1;32m      3\u001b[0m \u001b[0;32mimport\u001b[0m \u001b[0mtime\u001b[0m\u001b[0;34m\u001b[0m\u001b[0;34m\u001b[0m\u001b[0m\n\u001b[1;32m      4\u001b[0m \u001b[0;32mimport\u001b[0m \u001b[0mre\u001b[0m\u001b[0;34m\u001b[0m\u001b[0;34m\u001b[0m\u001b[0m\n\u001b[1;32m      5\u001b[0m \u001b[0;32mimport\u001b[0m \u001b[0mshutil\u001b[0m\u001b[0;34m\u001b[0m\u001b[0;34m\u001b[0m\u001b[0m\n",
            "\u001b[0;32m/usr/local/lib/python3.11/dist-packages/pandas/__init__.py\u001b[0m in \u001b[0;36m<module>\u001b[0;34m\u001b[0m\n\u001b[1;32m     20\u001b[0m \u001b[0;34m\u001b[0m\u001b[0m\n\u001b[1;32m     21\u001b[0m \u001b[0;31m# numpy compat\u001b[0m\u001b[0;34m\u001b[0m\u001b[0;34m\u001b[0m\u001b[0m\n\u001b[0;32m---> 22\u001b[0;31m \u001b[0;32mfrom\u001b[0m \u001b[0mpandas\u001b[0m\u001b[0;34m.\u001b[0m\u001b[0mcompat\u001b[0m \u001b[0;32mimport\u001b[0m \u001b[0mis_numpy_dev\u001b[0m \u001b[0;32mas\u001b[0m \u001b[0m_is_numpy_dev\u001b[0m  \u001b[0;31m# pyright: ignore # noqa:F401\u001b[0m\u001b[0;34m\u001b[0m\u001b[0;34m\u001b[0m\u001b[0m\n\u001b[0m\u001b[1;32m     23\u001b[0m \u001b[0;34m\u001b[0m\u001b[0m\n\u001b[1;32m     24\u001b[0m \u001b[0;32mtry\u001b[0m\u001b[0;34m:\u001b[0m\u001b[0;34m\u001b[0m\u001b[0;34m\u001b[0m\u001b[0m\n",
            "\u001b[0;32m/usr/local/lib/python3.11/dist-packages/pandas/compat/__init__.py\u001b[0m in \u001b[0;36m<module>\u001b[0;34m\u001b[0m\n\u001b[1;32m     16\u001b[0m \u001b[0;34m\u001b[0m\u001b[0m\n\u001b[1;32m     17\u001b[0m \u001b[0;32mfrom\u001b[0m \u001b[0mpandas\u001b[0m\u001b[0;34m.\u001b[0m\u001b[0m_typing\u001b[0m \u001b[0;32mimport\u001b[0m \u001b[0mF\u001b[0m\u001b[0;34m\u001b[0m\u001b[0;34m\u001b[0m\u001b[0m\n\u001b[0;32m---> 18\u001b[0;31m from pandas.compat.numpy import (\n\u001b[0m\u001b[1;32m     19\u001b[0m     \u001b[0mis_numpy_dev\u001b[0m\u001b[0;34m,\u001b[0m\u001b[0;34m\u001b[0m\u001b[0;34m\u001b[0m\u001b[0m\n\u001b[1;32m     20\u001b[0m     \u001b[0mnp_version_under1p21\u001b[0m\u001b[0;34m,\u001b[0m\u001b[0;34m\u001b[0m\u001b[0;34m\u001b[0m\u001b[0m\n",
            "\u001b[0;32m/usr/local/lib/python3.11/dist-packages/pandas/compat/numpy/__init__.py\u001b[0m in \u001b[0;36m<module>\u001b[0;34m\u001b[0m\n\u001b[1;32m      2\u001b[0m \u001b[0;32mimport\u001b[0m \u001b[0mnumpy\u001b[0m \u001b[0;32mas\u001b[0m \u001b[0mnp\u001b[0m\u001b[0;34m\u001b[0m\u001b[0;34m\u001b[0m\u001b[0m\n\u001b[1;32m      3\u001b[0m \u001b[0;34m\u001b[0m\u001b[0m\n\u001b[0;32m----> 4\u001b[0;31m \u001b[0;32mfrom\u001b[0m \u001b[0mpandas\u001b[0m\u001b[0;34m.\u001b[0m\u001b[0mutil\u001b[0m\u001b[0;34m.\u001b[0m\u001b[0mversion\u001b[0m \u001b[0;32mimport\u001b[0m \u001b[0mVersion\u001b[0m\u001b[0;34m\u001b[0m\u001b[0;34m\u001b[0m\u001b[0m\n\u001b[0m\u001b[1;32m      5\u001b[0m \u001b[0;34m\u001b[0m\u001b[0m\n\u001b[1;32m      6\u001b[0m \u001b[0;31m# numpy versioning\u001b[0m\u001b[0;34m\u001b[0m\u001b[0;34m\u001b[0m\u001b[0m\n",
            "\u001b[0;32m/usr/local/lib/python3.11/dist-packages/pandas/util/__init__.py\u001b[0m in \u001b[0;36m<module>\u001b[0;34m\u001b[0m\n\u001b[1;32m      1\u001b[0m \u001b[0;31m# pyright: reportUnusedImport = false\u001b[0m\u001b[0;34m\u001b[0m\u001b[0;34m\u001b[0m\u001b[0m\n\u001b[0;32m----> 2\u001b[0;31m from pandas.util._decorators import (  # noqa:F401\n\u001b[0m\u001b[1;32m      3\u001b[0m     \u001b[0mAppender\u001b[0m\u001b[0;34m,\u001b[0m\u001b[0;34m\u001b[0m\u001b[0;34m\u001b[0m\u001b[0m\n\u001b[1;32m      4\u001b[0m     \u001b[0mSubstitution\u001b[0m\u001b[0;34m,\u001b[0m\u001b[0;34m\u001b[0m\u001b[0;34m\u001b[0m\u001b[0m\n\u001b[1;32m      5\u001b[0m     \u001b[0mcache_readonly\u001b[0m\u001b[0;34m,\u001b[0m\u001b[0;34m\u001b[0m\u001b[0;34m\u001b[0m\u001b[0m\n",
            "\u001b[0;32m/usr/local/lib/python3.11/dist-packages/pandas/util/_decorators.py\u001b[0m in \u001b[0;36m<module>\u001b[0;34m\u001b[0m\n\u001b[1;32m     12\u001b[0m \u001b[0;32mimport\u001b[0m \u001b[0mwarnings\u001b[0m\u001b[0;34m\u001b[0m\u001b[0;34m\u001b[0m\u001b[0m\n\u001b[1;32m     13\u001b[0m \u001b[0;34m\u001b[0m\u001b[0m\n\u001b[0;32m---> 14\u001b[0;31m \u001b[0;32mfrom\u001b[0m \u001b[0mpandas\u001b[0m\u001b[0;34m.\u001b[0m\u001b[0m_libs\u001b[0m\u001b[0;34m.\u001b[0m\u001b[0mproperties\u001b[0m \u001b[0;32mimport\u001b[0m \u001b[0mcache_readonly\u001b[0m\u001b[0;34m\u001b[0m\u001b[0;34m\u001b[0m\u001b[0m\n\u001b[0m\u001b[1;32m     15\u001b[0m from pandas._typing import (\n\u001b[1;32m     16\u001b[0m     \u001b[0mF\u001b[0m\u001b[0;34m,\u001b[0m\u001b[0;34m\u001b[0m\u001b[0;34m\u001b[0m\u001b[0m\n",
            "\u001b[0;32m/usr/local/lib/python3.11/dist-packages/pandas/_libs/__init__.py\u001b[0m in \u001b[0;36m<module>\u001b[0;34m\u001b[0m\n\u001b[1;32m     11\u001b[0m \u001b[0;34m\u001b[0m\u001b[0m\n\u001b[1;32m     12\u001b[0m \u001b[0;34m\u001b[0m\u001b[0m\n\u001b[0;32m---> 13\u001b[0;31m \u001b[0;32mfrom\u001b[0m \u001b[0mpandas\u001b[0m\u001b[0;34m.\u001b[0m\u001b[0m_libs\u001b[0m\u001b[0;34m.\u001b[0m\u001b[0minterval\u001b[0m \u001b[0;32mimport\u001b[0m \u001b[0mInterval\u001b[0m\u001b[0;34m\u001b[0m\u001b[0;34m\u001b[0m\u001b[0m\n\u001b[0m\u001b[1;32m     14\u001b[0m from pandas._libs.tslibs import (\n\u001b[1;32m     15\u001b[0m     \u001b[0mNaT\u001b[0m\u001b[0;34m,\u001b[0m\u001b[0;34m\u001b[0m\u001b[0;34m\u001b[0m\u001b[0m\n",
            "\u001b[0;32m/usr/local/lib/python3.11/dist-packages/pandas/_libs/interval.pyx\u001b[0m in \u001b[0;36minit pandas._libs.interval\u001b[0;34m()\u001b[0m\n",
            "\u001b[0;31mValueError\u001b[0m: numpy.dtype size changed, may indicate binary incompatibility. Expected 96 from C header, got 88 from PyObject"
          ]
        }
      ],
      "source": [
        "# Import libraries\n",
        "import pandas as pd\n",
        "import time\n",
        "import re\n",
        "import shutil\n",
        "from datetime import datetime\n",
        "import time\n",
        "import psutil\n",
        "from pdbecif.mmcif_io import CifFileReader\n",
        "from pdbecif.mmcif_tools import MMCIF2Dict\n",
        "from Bio.Align import PairwiseAligner\n",
        "from Bio.PDB import *\n",
        "from Bio import SeqIO\n",
        "from google.colab import PDBCAT_module\n",
        "PDBCAT_module.mount('/content/PDB-CAT/PDBCAT_module.py')"
      ]
    },
    {
      "cell_type": "markdown",
      "metadata": {
        "id": "TqXm2wUFa_X0"
      },
      "source": [
        "## Step 2: Verify Required Folders\n",
        "The script checks if the required directories exist. If they do not, it creates them automatically.\n",
        "    "
      ]
    },
    {
      "cell_type": "code",
      "execution_count": null,
      "metadata": {
        "id": "LOvhYp3Oa_X0"
      },
      "outputs": [],
      "source": [
        "# Check if you have the correct folders\n",
        "cif_dir = os.path.join(os.getcwd(), \"cif-test\")\n",
        "\n",
        "if not os.path.exists(cif_dir):\n",
        "    os.mkdir(cif_dir)"
      ]
    },
    {
      "cell_type": "markdown",
      "metadata": {
        "id": "xSLBEHV-a_X0"
      },
      "source": [
        "## Step 3: Define Parameters\n",
        "Adjust these parameters as needed before running the main script.\n",
        "- **folder_name**: Name of the directory containing `.cif` files.\n",
        "- **res_threshold**: Minimum number of residues to distinguish proteins from peptides.\n",
        "- **mutation**: Set to `True` if mutation analysis is needed.\n",
        "- **pdb**: PDB ID for mutation analysis (used only if `mutation = True`)."
      ]
    },
    {
      "cell_type": "code",
      "execution_count": null,
      "metadata": {
        "id": "2WHDFwl3a_X0"
      },
      "outputs": [],
      "source": [
        "\"\"\"\n",
        "=========\n",
        "INITIAL INFORMATION. CHANGE THE CONTENT OF THESE VARIABLES IF NECESSARY\n",
        "=========\n",
        "\"\"\"\n",
        "\n",
        "# Name of the folder with the cif files to process\n",
        "folder_name = \"cif-test\"\n",
        "# Chose a threshold for the number of amino acids, to discriminate between peptides and the subunits of the protein\n",
        "res_threshold = 20\n",
        "# Analyze mutations. True or False\n",
        "mutation = False\n",
        "# PDB code of the protein to analyze. If mutation is False, this variable is not used.\n",
        "pdb = \" \"\n"
      ]
    },
    {
      "cell_type": "markdown",
      "metadata": {
        "id": "NXLOpENxa_X1"
      },
      "source": [
        "## Step 4: Process the cif Data\n",
        "The main script processes the PDB files and classifies structures based on the defined criteria.\n",
        "No modifications are required in this section."
      ]
    },
    {
      "cell_type": "code",
      "execution_count": null,
      "metadata": {
        "id": "1--qSR6Aa_X1"
      },
      "outputs": [],
      "source": [
        "\"\"\"\n",
        "===================================================================================================================================================\n",
        "\"\"\"\n",
        "\n",
        "# Path to the folder with the cif files to process\n",
        "directory_path = os.getcwd() + \"/\" + folder_name\n",
        "# Path and name of the FIRST csv output file (protein-centered) (.csv)\n",
        "out_file = f\"df-{folder_name}.csv\"\n",
        "# Path and name of the SECOND csv output file (ligand-centered) (.csv)\n",
        "out_file_ligands = f\"df-ligand-{folder_name}.csv\"\n",
        "# Path for the new categorizing folders\n",
        "output_path = f\"{folder_name}-out/\"\n",
        "\n",
        "\n",
        "\"\"\"\n",
        "===================================================================================================================================================\n",
        "\"\"\"\n",
        "\n",
        "\"\"\"\n",
        "MAIN CODE. YOU DO NOT NEED TO CHANGE THIS PART\n",
        "\"\"\"\n",
        "start_time = time.time()\n",
        "blacklist, blacklist_dict = read_blacklist(\"./blacklist.txt\") # Path to the blacklist file that contain the codes of the small molecules not considered ligands\n",
        "\n",
        "# READ THE REFERENCE SEQUENCES from the FASTA file.\n",
        "if mutation:\n",
        "    fasta_file = f\"{directory_path}/{pdb}.fasta\"\n",
        "    sequences_dict = extract_sequences(fasta_file)\n",
        "else:\n",
        "    sequences_dict = None\n",
        "\n",
        "## OUTPUT\n",
        "write_output(directory_path, out_file, out_file_ligands, blacklist_dict, mutation, blacklist, sequences_dict, res_threshold)\n",
        "\n",
        "# Classify whether there is a mutation\n",
        "if mutation == False:\n",
        "    no_mutated_list = os.listdir(directory_path)\n",
        "    no_mutated_list = [filename[:-4] for filename in no_mutated_list]\n",
        "\n",
        "if mutation == True:\n",
        "    no_mutated_list, non_mut_path = mutation_classification(directory_path, out_file, output_path)\n",
        "    output_path = non_mut_path\n",
        "\n",
        "# Classify depend on the bond\n",
        "bond_classification(directory_path, out_file, no_mutated_list, output_path, mutation)"
      ]
    }
  ],
  "metadata": {
    "colab": {
      "provenance": []
    },
    "kernelspec": {
      "display_name": "Python 3 (ipykernel)",
      "language": "python",
      "name": "python3"
    },
    "language_info": {
      "codemirror_mode": {
        "name": "ipython",
        "version": 3
      },
      "file_extension": ".py",
      "mimetype": "text/x-python",
      "name": "python",
      "nbconvert_exporter": "python",
      "pygments_lexer": "ipython3",
      "version": "3.10.12"
    }
  },
  "nbformat": 4,
  "nbformat_minor": 0
}
